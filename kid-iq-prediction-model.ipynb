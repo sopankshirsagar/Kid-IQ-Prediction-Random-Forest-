{
 "cells": [
  {
   "cell_type": "code",
   "execution_count": 1,
   "id": "747758f0",
   "metadata": {
    "execution": {
     "iopub.execute_input": "2024-05-02T03:24:30.491375Z",
     "iopub.status.busy": "2024-05-02T03:24:30.490952Z",
     "iopub.status.idle": "2024-05-02T03:24:32.709217Z",
     "shell.execute_reply": "2024-05-02T03:24:32.707949Z"
    },
    "papermill": {
     "duration": 2.228086,
     "end_time": "2024-05-02T03:24:32.712000",
     "exception": false,
     "start_time": "2024-05-02T03:24:30.483914",
     "status": "completed"
    },
    "tags": []
   },
   "outputs": [],
   "source": [
    "#Importing libraries\n",
    "import pandas as pd \n",
    "import numpy as np \n",
    "import matplotlib as plt\n",
    "import seaborn as sns\n",
    "%matplotlib inline\n"
   ]
  },
  {
   "cell_type": "code",
   "execution_count": 2,
   "id": "4c5e9ae4",
   "metadata": {
    "execution": {
     "iopub.execute_input": "2024-05-02T03:24:32.723981Z",
     "iopub.status.busy": "2024-05-02T03:24:32.723470Z",
     "iopub.status.idle": "2024-05-02T03:24:33.064521Z",
     "shell.execute_reply": "2024-05-02T03:24:33.063365Z"
    },
    "papermill": {
     "duration": 0.349746,
     "end_time": "2024-05-02T03:24:33.066991",
     "exception": false,
     "start_time": "2024-05-02T03:24:32.717245",
     "status": "completed"
    },
    "tags": []
   },
   "outputs": [],
   "source": [
    "#loading both datasets\n",
    "childdf =pd.read_csv('/kaggle/input/child-vs-mother-iq/child_iq.csv')\n",
    "kid_iq = pd.read_csv('/kaggle/input/child-vs-mother-iq/kid_iq.csv')"
   ]
  },
  {
   "cell_type": "code",
   "execution_count": 3,
   "id": "fb80c566",
   "metadata": {
    "execution": {
     "iopub.execute_input": "2024-05-02T03:24:33.079451Z",
     "iopub.status.busy": "2024-05-02T03:24:33.078694Z",
     "iopub.status.idle": "2024-05-02T03:24:33.089771Z",
     "shell.execute_reply": "2024-05-02T03:24:33.088516Z"
    },
    "papermill": {
     "duration": 0.020078,
     "end_time": "2024-05-02T03:24:33.092360",
     "exception": false,
     "start_time": "2024-05-02T03:24:33.072282",
     "status": "completed"
    },
    "tags": []
   },
   "outputs": [],
   "source": [
    "#ignoring first unvanted columns from both datasets\n",
    "childdf =childdf.iloc[:,1:]\n",
    "kid_iq= kid_iq.iloc[:,1:]"
   ]
  },
  {
   "cell_type": "code",
   "execution_count": 4,
   "id": "fdf1c7cb",
   "metadata": {
    "execution": {
     "iopub.execute_input": "2024-05-02T03:24:33.104712Z",
     "iopub.status.busy": "2024-05-02T03:24:33.104047Z",
     "iopub.status.idle": "2024-05-02T03:24:33.134436Z",
     "shell.execute_reply": "2024-05-02T03:24:33.133276Z"
    },
    "papermill": {
     "duration": 0.039256,
     "end_time": "2024-05-02T03:24:33.136715",
     "exception": false,
     "start_time": "2024-05-02T03:24:33.097459",
     "status": "completed"
    },
    "tags": []
   },
   "outputs": [
    {
     "name": "stdout",
     "output_type": "stream",
     "text": [
      "<class 'pandas.core.frame.DataFrame'>\n",
      "RangeIndex: 434 entries, 0 to 433\n",
      "Data columns (total 5 columns):\n",
      " #   Column     Non-Null Count  Dtype  \n",
      "---  ------     --------------  -----  \n",
      " 0   kid_score  434 non-null    int64  \n",
      " 1   mom_hs     434 non-null    int64  \n",
      " 2   mom_iq     434 non-null    float64\n",
      " 3   mom_work   434 non-null    int64  \n",
      " 4   mom_age    434 non-null    int64  \n",
      "dtypes: float64(1), int64(4)\n",
      "memory usage: 17.1 KB\n"
     ]
    }
   ],
   "source": [
    "kid_iq.info()"
   ]
  },
  {
   "cell_type": "markdown",
   "id": "45cdb45a",
   "metadata": {
    "papermill": {
     "duration": 0.00484,
     "end_time": "2024-05-02T03:24:33.146729",
     "exception": false,
     "start_time": "2024-05-02T03:24:33.141889",
     "status": "completed"
    },
    "tags": []
   },
   "source": [
    "## Lets create the prediction model \n",
    "* **Kid score** is Our target variable and all other are independent variables in Kid_iq dataset"
   ]
  },
  {
   "cell_type": "markdown",
   "id": "0f2eaca9",
   "metadata": {
    "papermill": {
     "duration": 0.004851,
     "end_time": "2024-05-02T03:24:33.156613",
     "exception": false,
     "start_time": "2024-05-02T03:24:33.151762",
     "status": "completed"
    },
    "tags": []
   },
   "source": [
    "#### Using Random Forest select important features for our prediction "
   ]
  },
  {
   "cell_type": "code",
   "execution_count": 5,
   "id": "a982aa27",
   "metadata": {
    "execution": {
     "iopub.execute_input": "2024-05-02T03:24:33.168924Z",
     "iopub.status.busy": "2024-05-02T03:24:33.168263Z",
     "iopub.status.idle": "2024-05-02T03:24:33.550069Z",
     "shell.execute_reply": "2024-05-02T03:24:33.548584Z"
    },
    "papermill": {
     "duration": 0.391047,
     "end_time": "2024-05-02T03:24:33.552773",
     "exception": false,
     "start_time": "2024-05-02T03:24:33.161726",
     "status": "completed"
    },
    "tags": []
   },
   "outputs": [],
   "source": [
    "# Splitting Dataset \n",
    "x= kid_iq.iloc[:,1:]\n",
    "y= kid_iq.iloc[:,0]\n",
    "\n",
    "from sklearn.model_selection import train_test_split\n",
    "x_train,x_test,y_train,y_test = train_test_split(x,y,random_state=42,test_size=0.25)"
   ]
  },
  {
   "cell_type": "markdown",
   "id": "f698b656",
   "metadata": {
    "papermill": {
     "duration": 0.004783,
     "end_time": "2024-05-02T03:24:33.562806",
     "exception": false,
     "start_time": "2024-05-02T03:24:33.558023",
     "status": "completed"
    },
    "tags": []
   },
   "source": [
    "#### Trainig Random Forest Regressor model for finding Importance of features \n"
   ]
  },
  {
   "cell_type": "code",
   "execution_count": 6,
   "id": "233e2fcd",
   "metadata": {
    "execution": {
     "iopub.execute_input": "2024-05-02T03:24:33.575938Z",
     "iopub.status.busy": "2024-05-02T03:24:33.575079Z",
     "iopub.status.idle": "2024-05-02T03:24:34.057244Z",
     "shell.execute_reply": "2024-05-02T03:24:34.055896Z"
    },
    "papermill": {
     "duration": 0.491766,
     "end_time": "2024-05-02T03:24:34.060049",
     "exception": false,
     "start_time": "2024-05-02T03:24:33.568283",
     "status": "completed"
    },
    "tags": []
   },
   "outputs": [],
   "source": [
    "# using regressor model because our target variable is continuouse feature.\n",
    "from sklearn.ensemble import RandomForestRegressor \n",
    "rfr = RandomForestRegressor()\n",
    "model=rfr.fit(x_train,y_train)\n",
    "pred_y = model.predict(x_test)"
   ]
  },
  {
   "cell_type": "markdown",
   "id": "cfde3c5c",
   "metadata": {
    "papermill": {
     "duration": 0.005156,
     "end_time": "2024-05-02T03:24:34.070852",
     "exception": false,
     "start_time": "2024-05-02T03:24:34.065696",
     "status": "completed"
    },
    "tags": []
   },
   "source": [
    "#### finding importance of features "
   ]
  },
  {
   "cell_type": "code",
   "execution_count": 7,
   "id": "95737e2a",
   "metadata": {
    "execution": {
     "iopub.execute_input": "2024-05-02T03:24:34.084408Z",
     "iopub.status.busy": "2024-05-02T03:24:34.083765Z",
     "iopub.status.idle": "2024-05-02T03:24:34.344328Z",
     "shell.execute_reply": "2024-05-02T03:24:34.343122Z"
    },
    "papermill": {
     "duration": 0.270286,
     "end_time": "2024-05-02T03:24:34.347431",
     "exception": false,
     "start_time": "2024-05-02T03:24:34.077145",
     "status": "completed"
    },
    "tags": []
   },
   "outputs": [
    {
     "data": {
      "text/plain": [
       "<Axes: >"
      ]
     },
     "execution_count": 7,
     "metadata": {},
     "output_type": "execute_result"
    },
    {
     "data": {
      "image/png": "[encoded data removed]",
      "text/plain": [
       "<Figure size 640x480 with 1 Axes>"
      ]
     },
     "metadata": {},
     "output_type": "display_data"
    }
   ],
   "source": [
    "importance = model.feature_importances_\n",
    "forest_importance = pd.Series(importance,index=x_train.columns )\n",
    "sns.barplot(x=forest_importance.values , y=forest_importance.index,)"
   ]
  },
  {
   "cell_type": "markdown",
   "id": "cb01c91a",
   "metadata": {
    "papermill": {
     "duration": 0.005914,
     "end_time": "2024-05-02T03:24:34.359064",
     "exception": false,
     "start_time": "2024-05-02T03:24:34.353150",
     "status": "completed"
    },
    "tags": []
   },
   "source": [
    "* We can see **mom_hs** is least importance for our model building so lets remove this feature and again train model withou it and then we will chell the accuracy score of both models before deleting **mom_hs** and after deleting it."
   ]
  },
  {
   "cell_type": "markdown",
   "id": "79c8a2a4",
   "metadata": {
    "papermill": {
     "duration": 0.005887,
     "end_time": "2024-05-02T03:24:34.370991",
     "exception": false,
     "start_time": "2024-05-02T03:24:34.365104",
     "status": "completed"
    },
    "tags": []
   },
   "source": [
    "#### Training random forest regressor model after removing mom_hs"
   ]
  },
  {
   "cell_type": "code",
   "execution_count": null,
   "id": "71c465b3",
   "metadata": {
    "papermill": {
     "duration": 0.005241,
     "end_time": "2024-05-02T03:24:34.381925",
     "exception": false,
     "start_time": "2024-05-02T03:24:34.376684",
     "status": "completed"
    },
    "tags": []
   },
   "outputs": [],
   "source": []
  },
  {
   "cell_type": "code",
   "execution_count": 8,
   "id": "0d2241c1",
   "metadata": {
    "execution": {
     "iopub.execute_input": "2024-05-02T03:24:34.394793Z",
     "iopub.status.busy": "2024-05-02T03:24:34.394268Z",
     "iopub.status.idle": "2024-05-02T03:24:34.597099Z",
     "shell.execute_reply": "2024-05-02T03:24:34.595752Z"
    },
    "papermill": {
     "duration": 0.212761,
     "end_time": "2024-05-02T03:24:34.600340",
     "exception": false,
     "start_time": "2024-05-02T03:24:34.387579",
     "status": "completed"
    },
    "tags": []
   },
   "outputs": [],
   "source": [
    "#create new train data without mom_hs.\n",
    "x2 = kid_iq.iloc[:,2:]\n",
    "#again splite the data into train and test \n",
    "x_train ,x_test , y_train,y_test = train_test_split(x2,y,random_state=42 , test_size=0.25)\n",
    "#fitting model\n",
    "after_model = rfr.fit(x_train,y_train)\n",
    "#predicting x_test \n",
    "pred_y2 = after_model.predict(x_test)"
   ]
  },
  {
   "cell_type": "markdown",
   "id": "81899870",
   "metadata": {
    "papermill": {
     "duration": 0.005371,
     "end_time": "2024-05-02T03:24:34.611409",
     "exception": false,
     "start_time": "2024-05-02T03:24:34.606038",
     "status": "completed"
    },
    "tags": []
   },
   "source": [
    "#### Lets check the performence metrics of both model "
   ]
  },
  {
   "cell_type": "code",
   "execution_count": 9,
   "id": "8331ddaa",
   "metadata": {
    "execution": {
     "iopub.execute_input": "2024-05-02T03:24:34.624147Z",
     "iopub.status.busy": "2024-05-02T03:24:34.623714Z",
     "iopub.status.idle": "2024-05-02T03:24:34.635011Z",
     "shell.execute_reply": "2024-05-02T03:24:34.633868Z"
    },
    "papermill": {
     "duration": 0.02138,
     "end_time": "2024-05-02T03:24:34.638189",
     "exception": false,
     "start_time": "2024-05-02T03:24:34.616809",
     "status": "completed"
    },
    "tags": []
   },
   "outputs": [
    {
     "name": "stdout",
     "output_type": "stream",
     "text": [
      "before removing least important feature \n",
      "\n",
      "mean_absolute_error :16.5448 \n",
      "mean_absolute_percentage_error :0.2149 \n",
      "R2 score :0.0536 \n",
      "\n",
      " after removing least important feature \n",
      "\n",
      "mean_absolute_error :16.7948 \n",
      "mean_absolute_percentage_error :0.2179 \n",
      "R2 score :0.0605 \n"
     ]
    }
   ],
   "source": [
    "from sklearn.metrics import mean_absolute_error ,r2_score ,mean_absolute_percentage_error\n",
    "\n",
    "# mean squared error and r2 score of before deleting mom_hs feature\n",
    "print(\"before removing least important feature \\n\")\n",
    "print(\"mean_absolute_error :%1.4f \"%mean_absolute_error(y_test,pred_y))\n",
    "print(\"mean_absolute_percentage_error :%1.4f \"%mean_absolute_percentage_error(y_test,pred_y))\n",
    "print(\"R2 score :%1.4f \"%r2_score(y_test,pred_y))\n",
    "\n",
    "\n",
    "# mean squared error and r2 score of after deleting mom_hs feature \n",
    "print(\"\\n after removing least important feature \\n\")\n",
    "print(\"mean_absolute_error :%1.4f \"%mean_absolute_error(y_test,pred_y2))\n",
    "print(\"mean_absolute_percentage_error :%1.4f \"%mean_absolute_percentage_error(y_test,pred_y2))\n",
    "print(\"R2 score :%1.4f \"%r2_score(y_test,pred_y2))\n",
    "\n"
   ]
  },
  {
   "cell_type": "markdown",
   "id": "40c55333",
   "metadata": {
    "papermill": {
     "duration": 0.00528,
     "end_time": "2024-05-02T03:24:34.649010",
     "exception": false,
     "start_time": "2024-05-02T03:24:34.643730",
     "status": "completed"
    },
    "tags": []
   },
   "source": [
    "* we can clearly see that MAE befor and after it differs around **0.50** points this is the magic of removing important features "
   ]
  },
  {
   "cell_type": "markdown",
   "id": "1cd4aa1c",
   "metadata": {
    "papermill": {
     "duration": 0.005206,
     "end_time": "2024-05-02T03:24:34.659754",
     "exception": false,
     "start_time": "2024-05-02T03:24:34.654548",
     "status": "completed"
    },
    "tags": []
   },
   "source": [
    "### Conclusion :\n",
    "* we can see mean absolute error between actual and predicting values is **16.49** it means kids IQ can be **+16.49 or -16.49** from actual IQ. \n",
    "* mean if our model predict Kid IQ bwtween 60-100 so in thise case the actual IQ can be between **-16.46 + 60 to +16.49 + 100** ."
   ]
  },
  {
   "cell_type": "markdown",
   "id": "3fb56f19",
   "metadata": {
    "papermill": {
     "duration": 0.005178,
     "end_time": "2024-05-02T03:24:34.670628",
     "exception": false,
     "start_time": "2024-05-02T03:24:34.665450",
     "status": "completed"
    },
    "tags": []
   },
   "source": [
    "# Thank you\n",
    "* please upvote and give Your feedback, Happy learning. <br>\n",
    "Yours ~~Sopan Kshirsagar~~\n"
   ]
  },
  {
   "cell_type": "code",
   "execution_count": null,
   "id": "44af136f",
   "metadata": {
    "papermill": {
     "duration": 0.005141,
     "end_time": "2024-05-02T03:24:34.681142",
     "exception": false,
     "start_time": "2024-05-02T03:24:34.676001",
     "status": "completed"
    },
    "tags": []
   },
   "outputs": [],
   "source": []
  },
  {
   "cell_type": "code",
   "execution_count": null,
   "id": "915fe27d",
   "metadata": {
    "papermill": {
     "duration": 0.00519,
     "end_time": "2024-05-02T03:24:34.691762",
     "exception": false,
     "start_time": "2024-05-02T03:24:34.686572",
     "status": "completed"
    },
    "tags": []
   },
   "outputs": [],
   "source": []
  },
  {
   "cell_type": "code",
   "execution_count": null,
   "id": "9870beae",
   "metadata": {
    "papermill": {
     "duration": 0.005111,
     "end_time": "2024-05-02T03:24:34.702323",
     "exception": false,
     "start_time": "2024-05-02T03:24:34.697212",
     "status": "completed"
    },
    "tags": []
   },
   "outputs": [],
   "source": []
  }
 ],
 "metadata": {
  "kaggle": {
   "accelerator": "none",
   "dataSources": [
    {
     "datasetId": 4900257,
     "sourceId": 8256993,
     "sourceType": "datasetVersion"
    }
   ],
   "dockerImageVersionId": 30698,
   "isGpuEnabled": false,
   "isInternetEnabled": true,
   "language": "python",
   "sourceType": "notebook"
  },
  "kernelspec": {
   "display_name": "Python 3",
   "language": "python",
   "name": "python3"
  },
  "language_info": {
   "codemirror_mode": {
    "name": "ipython",
    "version": 3
   },
   "file_extension": ".py",
   "mimetype": "text/x-python",
   "name": "python",
   "nbconvert_exporter": "python",
   "pygments_lexer": "ipython3",
   "version": "3.10.13"
  },
  "papermill": {
   "default_parameters": {},
   "duration": 8.010099,
   "end_time": "2024-05-02T03:24:35.329569",
   "environment_variables": {},
   "exception": null,
   "input_path": "__notebook__.ipynb",
   "output_path": "__notebook__.ipynb",
   "parameters": {},
   "start_time": "2024-05-02T03:24:27.319470",
   "version": "2.5.0"
  }
 },
 "nbformat": 4,
 "nbformat_minor": 5
}
